{
 "cells": [
  {
   "cell_type": "markdown",
   "metadata": {},
   "source": [
    "Imports"
   ]
  },
  {
   "cell_type": "code",
   "execution_count": 4,
   "metadata": {},
   "outputs": [],
   "source": [
    "import psycopg2\n",
    "from config import config"
   ]
  },
  {
   "cell_type": "markdown",
   "metadata": {},
   "source": [
    "Define connect method to connect to the postgres database and return the connection"
   ]
  },
  {
   "cell_type": "code",
   "execution_count": 9,
   "metadata": {},
   "outputs": [],
   "source": [
    "def connect():\n",
    "    \"\"\" Connect to the PostgreSQL database server \"\"\"\n",
    "    conn = None\n",
    "    try:\n",
    "        # read connection parameters\n",
    "        params = config()\n",
    "\n",
    "        # connect to the PostgreSQL server\n",
    "        print('Connecting to the PostgreSQL database...')\n",
    "        conn = psycopg2.connect(**params)\n",
    "\n",
    "        return conn\n",
    "\n",
    "        \n",
    "    except (Exception, psycopg2.DatabaseError) as error:\n",
    "        print(error)"
   ]
  },
  {
   "cell_type": "markdown",
   "metadata": {},
   "source": [
    "Connect to the database"
   ]
  },
  {
   "cell_type": "code",
   "execution_count": 16,
   "metadata": {},
   "outputs": [
    {
     "name": "stdout",
     "output_type": "stream",
     "text": [
      "Connecting to the PostgreSQL database...\n"
     ]
    }
   ],
   "source": [
    "conn = connect()"
   ]
  },
  {
   "cell_type": "markdown",
   "metadata": {},
   "source": [
    "Create the database tables"
   ]
  },
  {
   "cell_type": "code",
   "execution_count": 41,
   "metadata": {},
   "outputs": [],
   "source": [
    "cur = conn.cursor()\n",
    "\n",
    "# Country Table\n",
    "cur.execute(\"\"\"CREATE TABLE Country (\n",
    "                Country_key int PRIMARY KEY,\n",
    "                Name varchar(255),\n",
    "                Region varchar(255),\n",
    "                Continent varchar(255),\n",
    "                Currency varchar(255),\n",
    "                Capital varchar(255),\n",
    "                Total_population int,\n",
    "                Birth_rate float,\n",
    "                Gross_national_income float,\n",
    "                Life_expectancy_at_birth float,\n",
    "                Labor_force_total int,\n",
    "                Human_capital_index int,\n",
    "                Population_grown_annual float\n",
    "            );\"\"\")\n",
    "\n",
    "# Month Table\n",
    "cur.execute(\"\"\"CREATE TABLE Month (\n",
    "                    Month_Key int PRIMARY KEY,\n",
    "                    Name varchar(255),\n",
    "                    Quarter int,\n",
    "                    Year int,\n",
    "                    Decade int\n",
    "                );\"\"\")\n",
    "\n",
    "# Education Table\n",
    "cur.execute(\"\"\"CREATE TABLE Education (\n",
    "                    Education_Key int PRIMARY KEY,\n",
    "                    Total_Literacy_Rate float,\n",
    "                    Male_Literacy_Rate float,\n",
    "                    Female_Literacy_Rate float,\n",
    "                    Primary_School_Enrollment float,\n",
    "                    Post_Secondary_School_Enrollment float,\n",
    "                    Public_Education_Spending float,\n",
    "                    Pop_compuslory_school_age_total int,\n",
    "                    Pop_offical_entrance_age_primary_total int,\n",
    "                    Pop_offical_entrance_age_secondary_total int,\n",
    "                    Teachers_primary_total int,\n",
    "                    Teachers_secondary_total int\n",
    "                );\"\"\")\n",
    "\n",
    "# Health Table\n",
    "cur.execute(\"\"\"CREATE TABLE Health (\n",
    "                    Health_Key int PRIMARY KEY,\n",
    "                    Domestic_Health_Expenditure float,\n",
    "                    Hospital_Beds float,\n",
    "                    Immunization_attr_Hep int,\n",
    "                    Immunization_attr_DPT int,\n",
    "                    Immunization_attr_Measles int,\n",
    "                    Immunization_attr_Polio int,\n",
    "                    Num_Surgical_procedures int,\n",
    "                    Num_Death_infant int,\n",
    "                    Num_Death_stilbirths int,\n",
    "                    Num_Death_Elderly int,\n",
    "                    Num_health_professionals_Nurses float,\n",
    "                    Num_health_professionals_Physicians float,\n",
    "                    Prevalence_health_condition_overweight float,\n",
    "                    Prevalence_health_condition_diabetes float,\n",
    "                    Prevalence_health_condition_hiv float,\n",
    "                    Adults_HIV_15up float,\n",
    "                    Adults_new_HIV_15up float,\n",
    "                    Children_HIV_under15 float,\n",
    "                    Children_new_HIV_under15 float,\n",
    "                    Homelessness_rate_male float,\n",
    "                    Homelessness_rate_female float,\n",
    "                    Homelessness_rate_total float,\n",
    "                    CrimeRate float,\n",
    "                    Cost_of_living_index float\n",
    "                );\"\"\")\n",
    "\n",
    "# Quality_of_Life Table\n",
    "cur.execute(\"\"\"CREATE TABLE Quality_of_Life(\n",
    "                    Quality_of_Life_Key int PRIMARY KEY,\n",
    "                    Access_to_Drinking_Water float,\n",
    "                    Access_to_Sanitation float,\n",
    "                    Access_to_Basic_Handwashing_Facilities float,\n",
    "                    Unemployment_Rate_F float,\n",
    "                    Unemployment_Rate_M float,\n",
    "                    Unemployment_Rate_T float,\n",
    "                    Access_to_Electricity_Total float,\n",
    "                    Access_to_Electricity_Urban float,\n",
    "                    Access_to_Electricity_Rural float,\n",
    "                    Part_Time_Employment_T float, \n",
    "                    Part_Time_Employment_F float,    \n",
    "                    Part_Time_Employment_M float\n",
    "                );\"\"\")\n",
    "\n",
    "# Population Table\n",
    "cur.execute(\"\"\"CREATE TABLE Population(\n",
    "                    Population_Key int PRIMARY KEY,\n",
    "                    Life_Expectancy_At_Birth_F float,\n",
    "                    Life_Expectancy_At_Birth_M float,\n",
    "                    Life_Expectancy_At_Birth_T float,\n",
    "                    Net_Migration int,\n",
    "                    Population_ages_0_15 int,\n",
    "                    Population_ages_16_30 int,\n",
    "                    Population_ages_31_64 int,\n",
    "                    Population_ages_65_up int,\n",
    "                    Rural_Population float,\n",
    "                    Rural_Population_Growth_Rate float,\n",
    "                    Rural_Poverty_Rate float,\n",
    "                    Urban_Population float,\n",
    "                    Urban_Population_Growth_Rate float,\n",
    "                    Urban_Poverty_Rate float\n",
    "                );\"\"\")\n",
    "\n",
    "# Event Table\n",
    "cur.execute(\"\"\"CREATE TABLE Event (\n",
    "                    Event_key int PRIMARY KEY,\n",
    "                    Name varchar(255),\n",
    "                    Disaster_Type varchar(255),\n",
    "                    Start_Date Date,\n",
    "                    End_Date Date,\n",
    "                    Start_Month int,\n",
    "                    End_Month int,\n",
    "                    Disaster_Subgroup varchar(255),\n",
    "                    Total_Deaths int,\n",
    "                    No_Injured int,\n",
    "                    No_Affected int\n",
    "                );\"\"\")\n",
    "\n",
    "# Fact Table\n",
    "cur.execute(\"\"\"CREATE TABLE Fact_Table (\n",
    "                    Month_Key int,\n",
    "                    Country_Key int,\n",
    "                    Education_Key int,\n",
    "                    Population_Key int,\n",
    "                    Quality_of_Life_Key int,\n",
    "                    Health_Key int,\n",
    "                    Event_Key int,\n",
    "                    Quality_of_life int,\n",
    "                    Development_Index int,\n",
    "                    Human_Development_Index int,\n",
    "                    CONSTRAINT fk_month FOREIGN KEY(Month_Key) REFERENCES Month(Month_Key),\n",
    "                    CONSTRAINT fk_country FOREIGN KEY(Country_Key) REFERENCES Country(Country_Key),\n",
    "                    CONSTRAINT fk_education FOREIGN KEY(Education_Key) REFERENCES Education(Education_Key),\n",
    "                    CONSTRAINT fk_population FOREIGN KEY(Population_Key) REFERENCES Population(Population_Key),\n",
    "                    CONSTRAINT fk_quality_of_life FOREIGN KEY(Quality_of_Life_Key) REFERENCES Quality_Of_Life(Quality_of_Life_Key),\n",
    "                    CONSTRAINT fk_health FOREIGN KEY(Health_Key) REFERENCES Health(Health_Key),\n",
    "                    CONSTRAINT fk_event FOREIGN KEY(Event_Key) REFERENCES Event(Event_Key)\n",
    "                );\"\"\")\n",
    "\n",
    "cur.close()\n"
   ]
  },
  {
   "cell_type": "code",
   "execution_count": 40,
   "metadata": {},
   "outputs": [],
   "source": [
    "cur = conn.cursor()\n",
    "\n",
    "# cur.execute(\"DROP TABLE Fact_Table\")\n",
    "# cur.execute(\"DROP TABLE Country\")\n",
    "# cur.execute(\"DROP TABLE Month\")\n",
    "# cur.execute(\"DROP TABLE Education\")\n",
    "# cur.execute(\"DROP TABLE Health\")\n",
    "# cur.execute(\"DROP TABLE Quality_of_Life\")\n",
    "# cur.execute(\"DROP TABLE Population\")\n",
    "# cur.execute(\"DROP TABLE Event\")\n",
    "\n",
    "cur.close()\n"
   ]
  },
  {
   "cell_type": "markdown",
   "metadata": {},
   "source": [
    "Rollback incase shit breaks"
   ]
  },
  {
   "cell_type": "code",
   "execution_count": 23,
   "metadata": {},
   "outputs": [],
   "source": [
    "cur.execute(\"ROLLBACK\")"
   ]
  }
 ],
 "metadata": {
  "interpreter": {
   "hash": "ac59ebe37160ed0dfa835113d9b8498d9f09ceb179beaac4002f036b9467c963"
  },
  "kernelspec": {
   "display_name": "Python 3.9.9 64-bit",
   "language": "python",
   "name": "python3"
  },
  "language_info": {
   "codemirror_mode": {
    "name": "ipython",
    "version": 3
   },
   "file_extension": ".py",
   "mimetype": "text/x-python",
   "name": "python",
   "nbconvert_exporter": "python",
   "pygments_lexer": "ipython3",
   "version": "3.9.9"
  },
  "orig_nbformat": 4
 },
 "nbformat": 4,
 "nbformat_minor": 2
}
